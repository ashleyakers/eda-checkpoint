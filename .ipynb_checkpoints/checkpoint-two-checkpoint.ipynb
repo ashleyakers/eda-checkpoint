{
 "cells": [
  {
   "cell_type": "markdown",
   "metadata": {
    "azdata_cell_guid": "151601c9-ca7a-412e-af80-c62a87e0837e"
   },
   "source": [
    "# Checkpoint Two: Exploratory Data Analysis\n",
    "\n",
    "Now that your chosen dataset is approved, it is time to start working on your analysis. Use this notebook to perform your EDA and make notes where directed to as you work.\n",
    "\n",
    "## Getting Started\n",
    "\n",
    "Since we have not provided your dataset for you, you will need to load the necessary files in this repository. Make sure to include a link back to the original dataset here as well.\n",
    "\n",
    "My dataset:\n",
    "\n",
    "Your first task in EDA is to import necessary libraries and create a dataframe(s). Make note in the form of code comments of what your thought process is as you work on this setup task."
   ]
  },
  {
   "cell_type": "code",
   "execution_count": 1,
   "metadata": {
    "azdata_cell_guid": "7b503e37-6df5-4433-acfb-678b1346db14"
   },
   "outputs": [
    {
     "data": {
      "text/html": [
       "<div>\n",
       "<style scoped>\n",
       "    .dataframe tbody tr th:only-of-type {\n",
       "        vertical-align: middle;\n",
       "    }\n",
       "\n",
       "    .dataframe tbody tr th {\n",
       "        vertical-align: top;\n",
       "    }\n",
       "\n",
       "    .dataframe thead th {\n",
       "        text-align: right;\n",
       "    }\n",
       "</style>\n",
       "<table border=\"1\" class=\"dataframe\">\n",
       "  <thead>\n",
       "    <tr style=\"text-align: right;\">\n",
       "      <th></th>\n",
       "      <th>app_id</th>\n",
       "      <th>title</th>\n",
       "      <th>date_release</th>\n",
       "      <th>win</th>\n",
       "      <th>mac</th>\n",
       "      <th>linux</th>\n",
       "      <th>rating</th>\n",
       "      <th>positive_ratio</th>\n",
       "      <th>user_reviews</th>\n",
       "      <th>price_final</th>\n",
       "      <th>price_original</th>\n",
       "      <th>price_discounted</th>\n",
       "      <th>discount</th>\n",
       "      <th>steam_deck</th>\n",
       "    </tr>\n",
       "  </thead>\n",
       "  <tbody>\n",
       "    <tr>\n",
       "      <th>0</th>\n",
       "      <td>11190</td>\n",
       "      <td>Sherlock Holmes versus Jack the Ripper</td>\n",
       "      <td>2009-12-23</td>\n",
       "      <td>True</td>\n",
       "      <td>False</td>\n",
       "      <td>False</td>\n",
       "      <td>Mostly Positive</td>\n",
       "      <td>78</td>\n",
       "      <td>792</td>\n",
       "      <td>9.99</td>\n",
       "      <td>9.99</td>\n",
       "      <td>9.99</td>\n",
       "      <td>0.0</td>\n",
       "      <td>True</td>\n",
       "    </tr>\n",
       "    <tr>\n",
       "      <th>1</th>\n",
       "      <td>20700</td>\n",
       "      <td>Starscape</td>\n",
       "      <td>2008-11-03</td>\n",
       "      <td>True</td>\n",
       "      <td>False</td>\n",
       "      <td>False</td>\n",
       "      <td>Very Positive</td>\n",
       "      <td>81</td>\n",
       "      <td>80</td>\n",
       "      <td>7.99</td>\n",
       "      <td>7.99</td>\n",
       "      <td>7.99</td>\n",
       "      <td>0.0</td>\n",
       "      <td>True</td>\n",
       "    </tr>\n",
       "    <tr>\n",
       "      <th>2</th>\n",
       "      <td>94202</td>\n",
       "      <td>Jamestown: Gunpowder, Treason, &amp; Plot</td>\n",
       "      <td>2011-11-10</td>\n",
       "      <td>True</td>\n",
       "      <td>True</td>\n",
       "      <td>False</td>\n",
       "      <td>Positive</td>\n",
       "      <td>90</td>\n",
       "      <td>10</td>\n",
       "      <td>2.99</td>\n",
       "      <td>2.99</td>\n",
       "      <td>2.99</td>\n",
       "      <td>0.0</td>\n",
       "      <td>True</td>\n",
       "    </tr>\n",
       "    <tr>\n",
       "      <th>3</th>\n",
       "      <td>212673</td>\n",
       "      <td>Tom Clancy's Ghost Recon Future Soldier® - Khy...</td>\n",
       "      <td>2013-02-26</td>\n",
       "      <td>True</td>\n",
       "      <td>False</td>\n",
       "      <td>False</td>\n",
       "      <td>Mixed</td>\n",
       "      <td>60</td>\n",
       "      <td>10</td>\n",
       "      <td>9.99</td>\n",
       "      <td>9.99</td>\n",
       "      <td>9.99</td>\n",
       "      <td>0.0</td>\n",
       "      <td>True</td>\n",
       "    </tr>\n",
       "    <tr>\n",
       "      <th>4</th>\n",
       "      <td>222520</td>\n",
       "      <td>Champions of Regnum</td>\n",
       "      <td>2013-02-27</td>\n",
       "      <td>True</td>\n",
       "      <td>True</td>\n",
       "      <td>True</td>\n",
       "      <td>Mixed</td>\n",
       "      <td>67</td>\n",
       "      <td>1098</td>\n",
       "      <td>0.00</td>\n",
       "      <td>0.00</td>\n",
       "      <td>0.00</td>\n",
       "      <td>0.0</td>\n",
       "      <td>True</td>\n",
       "    </tr>\n",
       "  </tbody>\n",
       "</table>\n",
       "</div>"
      ],
      "text/plain": [
       "   app_id                                              title date_release  \\\n",
       "0   11190             Sherlock Holmes versus Jack the Ripper   2009-12-23   \n",
       "1   20700                                          Starscape   2008-11-03   \n",
       "2   94202              Jamestown: Gunpowder, Treason, & Plot   2011-11-10   \n",
       "3  212673  Tom Clancy's Ghost Recon Future Soldier® - Khy...   2013-02-26   \n",
       "4  222520                                Champions of Regnum   2013-02-27   \n",
       "\n",
       "    win    mac  linux           rating  positive_ratio  user_reviews  \\\n",
       "0  True  False  False  Mostly Positive              78           792   \n",
       "1  True  False  False    Very Positive              81            80   \n",
       "2  True   True  False         Positive              90            10   \n",
       "3  True  False  False            Mixed              60            10   \n",
       "4  True   True   True            Mixed              67          1098   \n",
       "\n",
       "   price_final  price_original  price_discounted  discount  steam_deck  \n",
       "0         9.99            9.99              9.99       0.0        True  \n",
       "1         7.99            7.99              7.99       0.0        True  \n",
       "2         2.99            2.99              2.99       0.0        True  \n",
       "3         9.99            9.99              9.99       0.0        True  \n",
       "4         0.00            0.00              0.00       0.0        True  "
      ]
     },
     "execution_count": 1,
     "metadata": {},
     "output_type": "execute_result"
    }
   ],
   "source": [
    "import pandas as pd\n",
    "import matplotlib.pyplot as plt\n",
    "import seaborn as sns\n",
    "\n",
    "df = pd.read_csv(\"games.csv\", on_bad_lines='skip' )\n",
    "\n",
    "df.head()"
   ]
  },
  {
   "cell_type": "markdown",
   "metadata": {
    "azdata_cell_guid": "129ce836-524b-4ea8-b394-a959f9308d6a"
   },
   "source": [
    "## Get to Know the Numbers\n",
    "\n",
    "Now that you have everything setup, put any code that you use to get to know the dataframe and its rows and columns better in the cell below. You can use whatever techniques you like, except for visualizations. You will put those in a separate section.\n",
    "\n",
    "When working on your code, make sure to leave comments so that your mentors can understand your thought process."
   ]
  },
  {
   "cell_type": "code",
   "execution_count": 2,
   "metadata": {},
   "outputs": [
    {
     "data": {
      "text/plain": [
       "(13469, 14)"
      ]
     },
     "execution_count": 2,
     "metadata": {},
     "output_type": "execute_result"
    }
   ],
   "source": [
    "df.shape"
   ]
  },
  {
   "cell_type": "code",
   "execution_count": 3,
   "metadata": {},
   "outputs": [
    {
     "data": {
      "text/plain": [
       "Index(['app_id', 'title', 'date_release', 'win', 'mac', 'linux', 'rating',\n",
       "       'positive_ratio', 'user_reviews', 'price_final', 'price_original',\n",
       "       'price_discounted', 'discount', 'steam_deck'],\n",
       "      dtype='object')"
      ]
     },
     "execution_count": 3,
     "metadata": {},
     "output_type": "execute_result"
    }
   ],
   "source": [
    "df.columns"
   ]
  },
  {
   "cell_type": "code",
   "execution_count": 4,
   "metadata": {},
   "outputs": [
    {
     "data": {
      "text/plain": [
       "app_id               0\n",
       "title                0\n",
       "date_release         0\n",
       "win                  0\n",
       "mac                  0\n",
       "linux                0\n",
       "rating               0\n",
       "positive_ratio       0\n",
       "user_reviews         0\n",
       "price_final          0\n",
       "price_original      26\n",
       "price_discounted    26\n",
       "discount             0\n",
       "steam_deck           0\n",
       "dtype: int64"
      ]
     },
     "execution_count": 4,
     "metadata": {},
     "output_type": "execute_result"
    }
   ],
   "source": [
    "df.isnull().sum()"
   ]
  },
  {
   "cell_type": "code",
   "execution_count": 5,
   "metadata": {},
   "outputs": [
    {
     "data": {
      "text/plain": [
       "count    13469.000000\n",
       "mean         8.486990\n",
       "std          9.346087\n",
       "min          0.000000\n",
       "25%          2.490000\n",
       "50%          5.990000\n",
       "75%          9.990000\n",
       "max        149.990000\n",
       "Name: price_final, dtype: float64"
      ]
     },
     "execution_count": 5,
     "metadata": {},
     "output_type": "execute_result"
    }
   ],
   "source": [
    "df['price_final'].describe()"
   ]
  },
  {
   "cell_type": "code",
   "execution_count": 6,
   "metadata": {},
   "outputs": [
    {
     "data": {
      "text/plain": [
       "count    13443.000000\n",
       "mean         9.188369\n",
       "std          9.713703\n",
       "min          0.000000\n",
       "25%          2.990000\n",
       "50%          6.990000\n",
       "75%         11.990000\n",
       "max        199.990000\n",
       "Name: price_original, dtype: float64"
      ]
     },
     "execution_count": 6,
     "metadata": {},
     "output_type": "execute_result"
    }
   ],
   "source": [
    "df['price_original'].describe()"
   ]
  },
  {
   "cell_type": "code",
   "execution_count": 7,
   "metadata": {},
   "outputs": [
    {
     "data": {
      "text/plain": [
       "count    13443.000000\n",
       "mean         8.492626\n",
       "std          9.348321\n",
       "min          0.000000\n",
       "25%          2.490000\n",
       "50%          5.990000\n",
       "75%          9.990000\n",
       "max        149.990000\n",
       "Name: price_discounted, dtype: float64"
      ]
     },
     "execution_count": 7,
     "metadata": {},
     "output_type": "execute_result"
    }
   ],
   "source": [
    "df['price_discounted'].describe()\n",
    "\n",
    "#understanding where all the prices land in each column"
   ]
  },
  {
   "cell_type": "code",
   "execution_count": 8,
   "metadata": {},
   "outputs": [
    {
     "data": {
      "text/plain": [
       "90.0"
      ]
     },
     "execution_count": 8,
     "metadata": {},
     "output_type": "execute_result"
    }
   ],
   "source": [
    "df['discount'].max()\n",
    "#the top discount"
   ]
  },
  {
   "cell_type": "code",
   "execution_count": 9,
   "metadata": {},
   "outputs": [
    {
     "data": {
      "text/plain": [
       "Positive                   5418\n",
       "Very Positive              3892\n",
       "Mostly Positive            2224\n",
       "Mixed                      1718\n",
       "Overwhelmingly Positive     210\n",
       "Mostly Negative               7\n",
       "Name: rating, dtype: int64"
      ]
     },
     "execution_count": 9,
     "metadata": {},
     "output_type": "execute_result"
    }
   ],
   "source": [
    "df.rating.value_counts()\n",
    "#how many of each rating there is"
   ]
  },
  {
   "cell_type": "code",
   "execution_count": null,
   "metadata": {},
   "outputs": [],
   "source": []
  },
  {
   "cell_type": "markdown",
   "metadata": {
    "azdata_cell_guid": "d45060f3-97bc-484a-9ef4-66145bbe9427"
   },
   "source": [
    "## Visualize\n",
    "\n",
    "Create any visualizations for your EDA here. Make note in the form of code comments of what your thought process is for your visualizations."
   ]
  },
  {
   "cell_type": "code",
   "execution_count": 12,
   "metadata": {},
   "outputs": [
    {
     "data": {
      "image/png": "[encoded data removed]",
      "text/plain": [
       "<Figure size 640x480 with 1 Axes>"
      ]
     },
     "metadata": {},
     "output_type": "display_data"
    }
   ],
   "source": [
    "import pandas as pd\n",
    "import matplotlib.pyplot as plt\n",
    "import seaborn as sns\n",
    "\n",
    "df = pd.read_csv(\"games.csv\", on_bad_lines='skip' )\n",
    "\n",
    "df.hist('price_final')\n",
    "plt.show()"
   ]
  },
  {
   "cell_type": "code",
   "execution_count": 14,
   "metadata": {
    "azdata_cell_guid": "cd64bab1-db4c-4295-820d-c6464b653a3e"
   },
   "outputs": [
    {
     "data": {
      "text/plain": [
       "<AxesSubplot:xlabel='price_final', ylabel='rating'>"
      ]
     },
     "execution_count": 14,
     "metadata": {},
     "output_type": "execute_result"
    },
    {
     "data": {
      "image/png": "[encoded data removed]",
      "text/plain": [
       "<Figure size 640x480 with 1 Axes>"
      ]
     },
     "metadata": {},
     "output_type": "display_data"
    }
   ],
   "source": [
    "sns.scatterplot(data=df, x = 'price_final', y= 'rating') \n",
    "\n",
    "#This scatterplot shows the business arguement I am checking to compare see if price helps with rating."
   ]
  },
  {
   "cell_type": "code",
   "execution_count": 15,
   "metadata": {},
   "outputs": [
    {
     "data": {
      "text/plain": [
       "<AxesSubplot:xlabel='positive_ratio', ylabel='rating'>"
      ]
     },
     "execution_count": 15,
     "metadata": {},
     "output_type": "execute_result"
    },
    {
     "data": {
      "image/png": "[encoded data removed]",
      "text/plain": [
       "<Figure size 640x480 with 1 Axes>"
      ]
     },
     "metadata": {},
     "output_type": "display_data"
    }
   ],
   "source": [
    "sns.scatterplot(data=df, x ='positive_ratio', y = 'rating')\n",
    "#this is how we can compare the ratio to the actual ratings Steam uses."
   ]
  },
  {
   "cell_type": "markdown",
   "metadata": {
    "azdata_cell_guid": "d4931c0c-2c09-4ee1-95d4-73dd08c2f0a6"
   },
   "source": [
    "## Summarize Your Results\n",
    "\n",
    "With your EDA complete, answer the following questions.\n",
    "\n",
    "1. Was there anything surprising about your dataset? That most of the positive reviews stick with the cheaper games, my assumption is that the big studio 60ish dollars games would have more positive reviews. \n",
    "2. Do you have any concerns about your dataset? It's not really getting in the specifics of reviews, reviews there tends to be a large amount of joke reviews on Steam as well in my experience.\n",
    "3. Is there anything you want to make note of for the next phase of your analysis, which is cleaning data? There are many columns that really have no relevance to the question I'm trying to answer, such as how do users play the games (such as Steam Deck, Linux, or Mac)"
   ]
  }
 ],
 "metadata": {
  "kernelspec": {
   "display_name": "Python 3 (ipykernel)",
   "language": "python",
   "name": "python3"
  },
  "language_info": {
   "codemirror_mode": {
    "name": "ipython",
    "version": 3
   },
   "file_extension": ".py",
   "mimetype": "text/x-python",
   "name": "python",
   "nbconvert_exporter": "python",
   "pygments_lexer": "ipython3",
   "version": "3.9.13"
  }
 },
 "nbformat": 4,
 "nbformat_minor": 2
}
